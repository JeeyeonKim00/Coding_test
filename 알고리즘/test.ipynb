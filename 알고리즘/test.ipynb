{
 "cells": [
  {
   "cell_type": "code",
   "execution_count": 1,
   "metadata": {},
   "outputs": [],
   "source": [
    "\n"
   ]
  },
  {
   "cell_type": "code",
   "execution_count": 17,
   "metadata": {},
   "outputs": [
    {
     "data": {
      "text/plain": [
       "[5, 2, 3, 4, 1]"
      ]
     },
     "execution_count": 17,
     "metadata": {},
     "output_type": "execute_result"
    }
   ],
   "source": [
    "num_lst"
   ]
  },
  {
   "cell_type": "code",
   "execution_count": 19,
   "metadata": {},
   "outputs": [
    {
     "name": "stdout",
     "output_type": "stream",
     "text": [
      "1\n",
      "2\n",
      "3\n",
      "4\n",
      "5\n"
     ]
    }
   ],
   "source": [
    "def sort_func(array):\n",
    "    if len(array)<=1:\n",
    "        return array\n",
    "    \n",
    "    pivot = array[0]\n",
    "    tail = array[1:]\n",
    "\n",
    "    left_lst = [x for x in tail if x <= pivot]\n",
    "    right_lst = [x  for x in tail if x > pivot]\n",
    "\n",
    "    return sort_func(left_lst) + [pivot] + sort_func(right_lst)\n",
    "\n",
    "N = int(input())\n",
    "num_lst = [int(input()) for _ in range(N)]\n",
    "\n",
    "fin_lst = sort_func(num_lst)\n",
    "print(*fin_lst,sep='\\n')"
   ]
  },
  {
   "cell_type": "code",
   "execution_count": 26,
   "metadata": {},
   "outputs": [
    {
     "name": "stdout",
     "output_type": "stream",
     "text": [
      "9\n"
     ]
    }
   ],
   "source": [
    "def sort_func(array):\n",
    "    if len(array)<=1:\n",
    "        return array\n",
    "    \n",
    "    pivot = array[0]\n",
    "    tail = array[1:]\n",
    "\n",
    "    left_lst = [x for x in tail if x <= pivot]\n",
    "    right_lst = [x  for x in tail if x > pivot]\n",
    "\n",
    "    return sort_func(left_lst) + [pivot] + sort_func(right_lst)\n",
    "\n",
    "N = int(input())\n",
    "num_lst = [int(input()) for _ in range(N)]\n",
    "sort_lst = sort_func(num_lst)\n",
    "print(sort_lst[-2])"
   ]
  },
  {
   "cell_type": "code",
   "execution_count": 27,
   "metadata": {},
   "outputs": [
    {
     "data": {
      "text/plain": [
       "[1, 2, 8, 9, 28]"
      ]
     },
     "execution_count": 27,
     "metadata": {},
     "output_type": "execute_result"
    }
   ],
   "source": [
    "sort_lst"
   ]
  },
  {
   "cell_type": "code",
   "execution_count": 25,
   "metadata": {},
   "outputs": [
    {
     "data": {
      "text/plain": [
       "[1, 4, 6, 2, 3]"
      ]
     },
     "execution_count": 25,
     "metadata": {},
     "output_type": "execute_result"
    }
   ],
   "source": [
    "num_lst"
   ]
  },
  {
   "cell_type": "code",
   "execution_count": 23,
   "metadata": {},
   "outputs": [
    {
     "name": "stdout",
     "output_type": "stream",
     "text": [
      "20\n"
     ]
    }
   ],
   "source": [
    "lst = list(map(int, input().split()))\n",
    "lst.sort(reverse=True)\n",
    "print(lst[1])"
   ]
  },
  {
   "cell_type": "code",
   "execution_count": 56,
   "metadata": {},
   "outputs": [
    {
     "name": "stdout",
     "output_type": "stream",
     "text": [
      "i\n",
      "im\n",
      "it\n",
      "no\n",
      "no\n",
      "but\n",
      "more\n",
      "more\n",
      "wait\n",
      "wont\n",
      "yours\n",
      "cannot\n",
      "hesitate\n"
     ]
    }
   ],
   "source": [
    "N = int(input())\n",
    "word_lst = [input() for _ in range(N)]\n",
    "word_lst = list(set(word_lst))\n",
    "word_lst_2 = [(i, len(i))for i in word_lst]\n",
    "sorted_lst = sorted(word_lst_2, key= lambda x: (x[1],x[0]))\n",
    "fin_lst = [i[0] for i in sorted_lst]\n",
    "print(*fin_lst, sep='\\n')"
   ]
  },
  {
   "cell_type": "code",
   "execution_count": 58,
   "metadata": {},
   "outputs": [
    {
     "name": "stdout",
     "output_type": "stream",
     "text": [
      "1\n",
      "2\n",
      "2\n",
      "5\n",
      "6\n",
      "8\n",
      "9\n",
      "19\n",
      "23\n",
      "35\n"
     ]
    }
   ],
   "source": [
    "N= int(input())\n",
    "word_lst = [int(input()) for _ in range(N)]\n",
    "word_lst.sort()\n",
    "\n",
    "print(*word_lst, sep='\\n')"
   ]
  },
  {
   "cell_type": "code",
   "execution_count": 82,
   "metadata": {},
   "outputs": [
    {
     "name": "stdout",
     "output_type": "stream",
     "text": [
      "1\n",
      "1\n",
      "1\n",
      "0\n",
      "0\n"
     ]
    }
   ],
   "source": [
    "N = int(input())\n",
    "N_lst = list(map(int,input().split()))\n",
    "M = int(input())\n",
    "M_lst = list(map(int,input().split()))\n",
    "\n",
    "fin_lst = [1 if i in N_lst else 0 for i in M_lst]\n",
    "\n",
    "print(*fin_lst,sep='\\n')\n",
    "\n"
   ]
  },
  {
   "cell_type": "code",
   "execution_count": 83,
   "metadata": {},
   "outputs": [
    {
     "name": "stdout",
     "output_type": "stream",
     "text": [
      "{1, 3, 5, 9}\n"
     ]
    }
   ],
   "source": [
    "lst = [5,3,1,9,3]\n",
    "print(set(lst))"
   ]
  },
  {
   "cell_type": "code",
   "execution_count": 80,
   "metadata": {},
   "outputs": [
    {
     "name": "stdout",
     "output_type": "stream",
     "text": [
      "i:1\n",
      "1\n",
      "------\n",
      "i:3\n",
      "1\n",
      "------\n",
      "i:5\n",
      "1\n",
      "------\n",
      "i:7\n",
      "0\n",
      "------\n",
      "i:9\n",
      "0\n",
      "------\n"
     ]
    }
   ],
   "source": [
    "for i in M_lst:\n",
    "    print(f'i:{i}')\n",
    "    if i in N_lst:\n",
    "        print(1)\n",
    "    else:\n",
    "        print(0)\n",
    "    print('------'\n",
    "    )"
   ]
  },
  {
   "cell_type": "code",
   "execution_count": 77,
   "metadata": {},
   "outputs": [
    {
     "name": "stdout",
     "output_type": "stream",
     "text": [
      "{1, 2, 3, 4, 5}\n",
      "{1, 3, 5, 7, 9}\n"
     ]
    }
   ],
   "source": [
    "\n",
    "print(N_lst)\n",
    "print(M_lst)"
   ]
  },
  {
   "cell_type": "code",
   "execution_count": 78,
   "metadata": {},
   "outputs": [
    {
     "name": "stdout",
     "output_type": "stream",
     "text": [
      "1\n",
      "3\n",
      "5\n",
      "7\n",
      "9\n"
     ]
    }
   ],
   "source": [
    "if i in N_lst:\n",
    "    "
   ]
  },
  {
   "cell_type": "code",
   "execution_count": null,
   "metadata": {},
   "outputs": [],
   "source": []
  },
  {
   "cell_type": "code",
   "execution_count": 71,
   "metadata": {},
   "outputs": [
    {
     "name": "stdout",
     "output_type": "stream",
     "text": [
      "1\n",
      "0\n",
      "0\n"
     ]
    }
   ],
   "source": [
    "\n"
   ]
  },
  {
   "cell_type": "code",
   "execution_count": null,
   "metadata": {},
   "outputs": [],
   "source": [
    "print"
   ]
  },
  {
   "cell_type": "code",
   "execution_count": 66,
   "metadata": {},
   "outputs": [
    {
     "name": "stdout",
     "output_type": "stream",
     "text": [
      "[1, 1, 0, 0, 1]\n"
     ]
    }
   ],
   "source": [
    "result = [1 if i in N_lst else 0 for i in M_lst]\n",
    "print(result)\n"
   ]
  },
  {
   "cell_type": "code",
   "execution_count": null,
   "metadata": {},
   "outputs": [],
   "source": [
    "def binary_search(array, target, start, end):"
   ]
  },
  {
   "cell_type": "code",
   "execution_count": 98,
   "metadata": {},
   "outputs": [
    {
     "data": {
      "text/plain": [
       "[(3, 4), (1, 1), (1, -1), (2, 2), (3, 3)]"
      ]
     },
     "execution_count": 98,
     "metadata": {},
     "output_type": "execute_result"
    }
   ],
   "source": [
    "N = int(input())\n",
    "num_lst = [tuple(map(int, input().split())) for _ in range(N)]\n",
    "new_lst = sorted(num_lst, key = lambda x: (x[0],x[1]))\n",
    "for i in new_lst:\n",
    "    print(i[0], i[1])"
   ]
  },
  {
   "cell_type": "code",
   "execution_count": 111,
   "metadata": {},
   "outputs": [
    {
     "name": "stdout",
     "output_type": "stream",
     "text": [
      "999999998\n"
     ]
    }
   ],
   "source": [
    "n = input()\n",
    "lst = [int(x) for x in n]\n",
    "lst.sort(reverse=True)\n",
    "print(*lst,sep='')"
   ]
  },
  {
   "cell_type": "code",
   "execution_count": 117,
   "metadata": {},
   "outputs": [],
   "source": [
    "n = int(input())\n",
    "lst = [tuple(input().split()) for _ in range(n)]\n",
    "lst2 = [(i,int(j[0]),j[1]) for i,j in enumerate(lst)]\n",
    "lst2 = sorted(lst2, key = lambda x: (x[1],x[0]))\n",
    "\n",
    "for i in lst2:\n",
    "    print(i[1], i[2])"
   ]
  },
  {
   "cell_type": "code",
   "execution_count": 133,
   "metadata": {},
   "outputs": [
    {
     "data": {
      "text/plain": [
       "[(1, 4),\n",
       " (3, 5),\n",
       " (0, 6),\n",
       " (5, 7),\n",
       " (4, 8),\n",
       " (5, 9),\n",
       " (6, 10),\n",
       " (8, 11),\n",
       " (8, 12),\n",
       " (2, 13),\n",
       " (12, 14)]"
      ]
     },
     "execution_count": 133,
     "metadata": {},
     "output_type": "execute_result"
    }
   ],
   "source": [
    "n = int(input())\n",
    "lst = [tuple(map(int, input().split())) for _ in range(n)]\n",
    "\n",
    "lst"
   ]
  },
  {
   "cell_type": "code",
   "execution_count": 135,
   "metadata": {},
   "outputs": [
    {
     "data": {
      "text/plain": [
       "[(0, 6),\n",
       " (1, 4),\n",
       " (2, 13),\n",
       " (3, 5),\n",
       " (4, 8),\n",
       " (5, 7),\n",
       " (5, 9),\n",
       " (6, 10),\n",
       " (8, 11),\n",
       " (8, 12),\n",
       " (12, 14)]"
      ]
     },
     "execution_count": 135,
     "metadata": {},
     "output_type": "execute_result"
    }
   ],
   "source": [
    "lst_sort = sorted(lst, key = lambda x: x[0])\n",
    "lst_sort"
   ]
  },
  {
   "cell_type": "code",
   "execution_count": 136,
   "metadata": {},
   "outputs": [
    {
     "data": {
      "text/plain": [
       "[(0, 6, 6),\n",
       " (1, 4, 3),\n",
       " (2, 13, 11),\n",
       " (3, 5, 2),\n",
       " (4, 8, 4),\n",
       " (5, 7, 2),\n",
       " (5, 9, 4),\n",
       " (6, 10, 4),\n",
       " (8, 11, 3),\n",
       " (8, 12, 4),\n",
       " (12, 14, 2)]"
      ]
     },
     "execution_count": 136,
     "metadata": {},
     "output_type": "execute_result"
    }
   ],
   "source": [
    "diff_lst = [(i[0],i[1],i[1]-i[0]) for i in lst_sort]\n",
    "diff_lst"
   ]
  },
  {
   "cell_type": "code",
   "execution_count": 138,
   "metadata": {},
   "outputs": [
    {
     "data": {
      "text/plain": [
       "[(0, 6, 6),\n",
       " (1, 4, 3),\n",
       " (2, 13, 11),\n",
       " (3, 5, 2),\n",
       " (4, 8, 4),\n",
       " (5, 7, 2),\n",
       " (5, 9, 4),\n",
       " (6, 10, 4),\n",
       " (8, 11, 3),\n",
       " (8, 12, 4),\n",
       " (12, 14, 2)]"
      ]
     },
     "execution_count": 138,
     "metadata": {},
     "output_type": "execute_result"
    }
   ],
   "source": [
    "diff_lst_sort = sorted(diff_lst, key= lambda x: (x[0],x[2]))\n",
    "diff_lst_sort"
   ]
  },
  {
   "cell_type": "code",
   "execution_count": 206,
   "metadata": {},
   "outputs": [
    {
     "name": "stdout",
     "output_type": "stream",
     "text": [
      "7\n",
      "8\n",
      "10\n",
      "13\n",
      "19\n",
      "20\n",
      "23\n"
     ]
    }
   ],
   "source": [
    "lst = [int(input()) for _ in range(9)]\n",
    "sum_lst = sum(lst)\n",
    "\n",
    "num_lst = []\n",
    "for i in lst:\n",
    "    for j in lst:\n",
    "        if (i,j) not in num_lst and (j,i) not in num_lst and i != j:\n",
    "            num_lst.append((i,j))   \n",
    "\n",
    "test_lst = []\n",
    "for i in num_lst:\n",
    "    if sum_lst-sum(i) == 100:\n",
    "        test_lst.append(i)\n",
    "\n",
    "lst.remove(test_lst[0][0])\n",
    "lst.remove(test_lst[0][1])\n",
    "lst.sort()\n",
    "print(*lst, sep='\\n')"
   ]
  },
  {
   "cell_type": "code",
   "execution_count": 192,
   "metadata": {},
   "outputs": [
    {
     "data": {
      "text/plain": [
       "[(15, 25)]"
      ]
     },
     "execution_count": 192,
     "metadata": {},
     "output_type": "execute_result"
    }
   ],
   "source": [
    "test_lst"
   ]
  },
  {
   "cell_type": "code",
   "execution_count": 215,
   "metadata": {},
   "outputs": [
    {
     "name": "stdout",
     "output_type": "stream",
     "text": [
      "3 0 0 1 2 0 0 2 "
     ]
    }
   ],
   "source": [
    "n = int(input())\n",
    "n_lst = tuple(map(int, input().split()))\n",
    "m = int(input())\n",
    "m_lst = tuple(map(int, input().split()))\n",
    "for i in m_lst:\n",
    "    cnt = n_lst.count(i)\n",
    "    print(cnt, end =' ')"
   ]
  },
  {
   "cell_type": "code",
   "execution_count": null,
   "metadata": {},
   "outputs": [],
   "source": [
    "# n_lst의 숫자 등장 횟수를 딕셔너리에 저장\n",
    "count_dict = {}\n",
    "for num in n_lst:\n",
    "    count_dict[num] = count_dict.get(num, 0) + 1\n",
    "\n",
    "# m_lst를 순회하면서 숫자 등장 횟수를 출력\n",
    "for num in m_lst:\n",
    "    cnt = count_dict.get(num, 0)\n",
    "    print(cnt, end=' ')\n"
   ]
  },
  {
   "cell_type": "code",
   "execution_count": 229,
   "metadata": {},
   "outputs": [],
   "source": [
    "n = int(input())\n",
    "n_lst = list(map(int, input().split()))\n",
    "m = int(input())\n",
    "m_lst = list(map(int, input().split()))\n",
    "\n",
    "cnt_d = {}\n",
    "\n",
    "for num in n_lst:\n",
    "    cnt_d[num] = cnt_d.get(num,0)+1\n",
    "\n",
    "for num in m_lst:\n",
    "    cnt = cnt_d.get(num,0)\n",
    "    print(cnt, end = ' ')"
   ]
  },
  {
   "cell_type": "code",
   "execution_count": 238,
   "metadata": {},
   "outputs": [],
   "source": [
    "n, m = map(int, input().split())\n",
    "\n",
    "never_heard = [input() for _ in range(n)]\n",
    "never_seen = [input() for _ in range(m)]\n",
    "\n",
    "dict2 = {}\n",
    "for word in never_heard:\n",
    "    dict2[word] = dict2.get(word,0)\n",
    "\n",
    "for word in never_seen:\n",
    "    if word in dict2.keys():\n",
    "        dict2[word] = dict2.get(word,0) +1\n",
    "\n",
    "tot_lst = [i for i,j in dict2.items() if j>=1]\n",
    "tot_lst.sort()\n",
    "print(len(tot_lst))\n",
    "print(*tot_lst,sep='\\n')"
   ]
  },
  {
   "cell_type": "code",
   "execution_count": 262,
   "metadata": {},
   "outputs": [],
   "source": [
    "def binary_search(array, target, start, end):\n",
    "    while start <= end:\n",
    "        mid = (start+end)//2\n",
    "\n",
    "        if array[mid] == target:\n",
    "            return mid\n",
    "        elif array[mid] > target:\n",
    "            end = mid-1\n",
    "        elif array[mid] < target:\n",
    "            start = mid+1\n",
    "    return None\n"
   ]
  },
  {
   "cell_type": "code",
   "execution_count": 260,
   "metadata": {},
   "outputs": [],
   "source": [
    "n, target = list(map(int, input().split()))\n",
    "array = list(map(int, input().split()))\n"
   ]
  },
  {
   "cell_type": "code",
   "execution_count": 264,
   "metadata": {},
   "outputs": [
    {
     "name": "stdout",
     "output_type": "stream",
     "text": [
      "4\n"
     ]
    }
   ],
   "source": [
    "# target = 7\n",
    "\n",
    "result = binary_search(array, target, 0, n-1)\n",
    "print(result+1)"
   ]
  },
  {
   "cell_type": "code",
   "execution_count": 271,
   "metadata": {},
   "outputs": [],
   "source": [
    "from bisect import bisect_left, bisect_right\n",
    "\n",
    "def cnt(array, left, right):\n",
    "    left_index = bisect_left(array, left)\n",
    "    right_index = bisect_right(array, right)\n",
    "    return right_index-left_index"
   ]
  },
  {
   "cell_type": "code",
   "execution_count": 327,
   "metadata": {},
   "outputs": [
    {
     "name": "stdout",
     "output_type": "stream",
     "text": [
      "3\n"
     ]
    }
   ],
   "source": [
    "from bisect import bisect_left, bisect_right\n",
    "\n",
    "def search_bin(array, target):\n",
    "    lst.sort()\n",
    "    left_index = bisect_left(array,target)\n",
    "    right_index = bisect_right(array, target)\n",
    "    return right_index-left_index\n",
    "\n",
    "n = int(input())\n",
    "lst = list(map(int, input().split()))\n",
    "v = int(input())\n",
    "print(search_bin(lst, v))"
   ]
  },
  {
   "cell_type": "code",
   "execution_count": null,
   "metadata": {},
   "outputs": [],
   "source": []
  },
  {
   "cell_type": "code",
   "execution_count": 333,
   "metadata": {},
   "outputs": [
    {
     "name": "stdout",
     "output_type": "stream",
     "text": [
      "2.0\n",
      "2\n",
      "1\n",
      "10\n"
     ]
    }
   ],
   "source": [
    "from collections import Counter\n",
    "\n",
    "n = int(input())\n",
    "lst = [int(input()) for _ in range(n)]\n",
    "lst.sort()\n",
    "counted = Counter(lst)\n",
    "max_counter = max(counted.values())\n",
    "\n",
    "avg = int(round(sum(lst)/n,0))\n",
    "mid = lst[n//2]\n",
    "mode = [k for k,v in counted.items() if v == max_counter][:2][-1]\n",
    "range_num = max(lst)-min(lst)\n",
    "\n",
    "\n",
    "print(avg, mid, mode, range_num, sep='\\n')\n",
    "\n",
    "\n"
   ]
  },
  {
   "cell_type": "code",
   "execution_count": 314,
   "metadata": {},
   "outputs": [
    {
     "data": {
      "text/plain": [
       "10"
      ]
     },
     "execution_count": 314,
     "metadata": {},
     "output_type": "execute_result"
    }
   ],
   "source": []
  },
  {
   "cell_type": "code",
   "execution_count": 335,
   "metadata": {},
   "outputs": [],
   "source": [
    "n, m = map(int, input().split())\n",
    "rice_lst = list(map(int, input().split()))"
   ]
  },
  {
   "cell_type": "code",
   "execution_count": 336,
   "metadata": {},
   "outputs": [
    {
     "data": {
      "text/plain": [
       "[19, 15, 10, 17]"
      ]
     },
     "execution_count": 336,
     "metadata": {},
     "output_type": "execute_result"
    }
   ],
   "source": [
    "rice_lst"
   ]
  },
  {
   "cell_type": "code",
   "execution_count": 337,
   "metadata": {},
   "outputs": [],
   "source": [
    "def bin_search(array, start, end, target):\n",
    "    while start <= end:\n",
    "        mid = (start+end)//2\n",
    "        if array[mid] == target:\n",
    "            return mid\n",
    "        elif array[mid]>target:\n",
    "            end = mid-1\n",
    "        else:\n",
    "            start = mid+1\n",
    "\n",
    "    return None"
   ]
  },
  {
   "cell_type": "code",
   "execution_count": 339,
   "metadata": {},
   "outputs": [
    {
     "data": {
      "text/plain": [
       "0"
      ]
     },
     "execution_count": 339,
     "metadata": {},
     "output_type": "execute_result"
    }
   ],
   "source": [
    "bin_search(rice_lst, 0, n-1 , m)"
   ]
  },
  {
   "cell_type": "code",
   "execution_count": 347,
   "metadata": {},
   "outputs": [
    {
     "name": "stdout",
     "output_type": "stream",
     "text": [
      "['9', '5', '34', '30', '3']\n",
      "9534303\n"
     ]
    }
   ],
   "source": [
    "numbers = [3,30,34,5,9]    \n",
    "lst_str = [str(num) for num in numbers]\n",
    "lst_str2 = sorted(lst_str, key = lambda x: (x[0],int(x)) ,reverse=True)\n",
    "print(lst_str2)\n",
    "print(''.join(lst_str2))\n",
    "\n",
    "# sorted(lst, key = )"
   ]
  },
  {
   "cell_type": "code",
   "execution_count": 366,
   "metadata": {},
   "outputs": [
    {
     "name": "stdout",
     "output_type": "stream",
     "text": [
      "<generator object <genexpr> at 0x000001A45F11A190>\n",
      "<generator object <genexpr> at 0x000001A45F11A190>\n",
      "<generator object <genexpr> at 0x000001A45F11A190>\n",
      "<generator object <genexpr> at 0x000001A45F11A190>\n",
      "<generator object <genexpr> at 0x000001A45F11A190>\n",
      "<generator object <genexpr> at 0x000001A45F11A190>\n",
      "<generator object <genexpr> at 0x000001A45F11A190>\n",
      "<generator object <genexpr> at 0x000001A45F11A190>\n",
      "<generator object <genexpr> at 0x000001A45F11A190>\n",
      "<generator object <genexpr> at 0x000001A45F11A190>\n",
      "<generator object <genexpr> at 0x000001A45F11A190>\n",
      "<generator object <genexpr> at 0x000001A45F11A190>\n",
      "<generator object <genexpr> at 0x000001A45F11A190>\n",
      "<generator object <genexpr> at 0x000001A45F11A190>\n",
      "<generator object <genexpr> at 0x000001A45F11A190>\n",
      "<generator object <genexpr> at 0x000001A45F11A190>\n",
      "<generator object <genexpr> at 0x000001A45F11A190>\n",
      "<generator object <genexpr> at 0x000001A45F11A190>\n",
      "<generator object <genexpr> at 0x000001A45F11A190>\n",
      "<generator object <genexpr> at 0x000001A45F11A190>\n",
      "<generator object <genexpr> at 0x000001A45F11A190>\n",
      "<generator object <genexpr> at 0x000001A45F11A190>\n",
      "<generator object <genexpr> at 0x000001A45F11A190>\n",
      "<generator object <genexpr> at 0x000001A45F11A190>\n",
      "<generator object <genexpr> at 0x000001A45F11A190>\n",
      "<generator object <genexpr> at 0x000001A45F11A190>\n",
      "<generator object <genexpr> at 0x000001A45F11A190>\n",
      "<generator object <genexpr> at 0x000001A45F11A190>\n",
      "<generator object <genexpr> at 0x000001A45F11A190>\n",
      "<generator object <genexpr> at 0x000001A45F11A190>\n",
      "<generator object <genexpr> at 0x000001A45F11A190>\n",
      "<generator object <genexpr> at 0x000001A45F11A190>\n",
      "<generator object <genexpr> at 0x000001A45F11A190>\n",
      "<generator object <genexpr> at 0x000001A45F11A190>\n",
      "<generator object <genexpr> at 0x000001A45F11A190>\n",
      "<generator object <genexpr> at 0x000001A45F11A190>\n",
      "<generator object <genexpr> at 0x000001A45F11A190>\n",
      "<generator object <genexpr> at 0x000001A45F11A190>\n",
      "<generator object <genexpr> at 0x000001A45F11A190>\n",
      "<generator object <genexpr> at 0x000001A45F11A190>\n",
      "<generator object <genexpr> at 0x000001A45F11A190>\n",
      "<generator object <genexpr> at 0x000001A45F11A190>\n",
      "<generator object <genexpr> at 0x000001A45F11A190>\n",
      "<generator object <genexpr> at 0x000001A45F11A190>\n",
      "<generator object <genexpr> at 0x000001A45F11A190>\n",
      "<generator object <genexpr> at 0x000001A45F11A190>\n",
      "<generator object <genexpr> at 0x000001A45F11A190>\n",
      "<generator object <genexpr> at 0x000001A45F11A190>\n",
      "<generator object <genexpr> at 0x000001A45F11A190>\n",
      "<generator object <genexpr> at 0x000001A45F11A190>\n",
      "<generator object <genexpr> at 0x000001A45F11A190>\n",
      "<generator object <genexpr> at 0x000001A45F11A190>\n",
      "<generator object <genexpr> at 0x000001A45F11A190>\n",
      "<generator object <genexpr> at 0x000001A45F11A190>\n",
      "<generator object <genexpr> at 0x000001A45F11A190>\n",
      "<generator object <genexpr> at 0x000001A45F11A190>\n",
      "<generator object <genexpr> at 0x000001A45F11A190>\n",
      "<generator object <genexpr> at 0x000001A45F11A190>\n",
      "<generator object <genexpr> at 0x000001A45F11A190>\n",
      "<generator object <genexpr> at 0x000001A45F11A190>\n",
      "<generator object <genexpr> at 0x000001A45F11A190>\n",
      "<generator object <genexpr> at 0x000001A45F11A190>\n",
      "<generator object <genexpr> at 0x000001A45F11A190>\n",
      "<generator object <genexpr> at 0x000001A45F11A190>\n",
      "<generator object <genexpr> at 0x000001A45F11A190>\n",
      "<generator object <genexpr> at 0x000001A45F11A190>\n",
      "<generator object <genexpr> at 0x000001A45F11A190>\n",
      "<generator object <genexpr> at 0x000001A45F11A190>\n",
      "<generator object <genexpr> at 0x000001A45F11A190>\n",
      "<generator object <genexpr> at 0x000001A45F11A190>\n",
      "<generator object <genexpr> at 0x000001A45F11A190>\n",
      "<generator object <genexpr> at 0x000001A45F11A190>\n",
      "<generator object <genexpr> at 0x000001A45F11A190>\n",
      "<generator object <genexpr> at 0x000001A45F11A190>\n",
      "<generator object <genexpr> at 0x000001A45F11A190>\n",
      "<generator object <genexpr> at 0x000001A45F11A190>\n",
      "<generator object <genexpr> at 0x000001A45F11A190>\n",
      "<generator object <genexpr> at 0x000001A45F11A190>\n",
      "<generator object <genexpr> at 0x000001A45F11A190>\n",
      "<generator object <genexpr> at 0x000001A45F11A190>\n",
      "<generator object <genexpr> at 0x000001A45F11A190>\n",
      "<generator object <genexpr> at 0x000001A45F11A190>\n",
      "<generator object <genexpr> at 0x000001A45F11A190>\n",
      "<generator object <genexpr> at 0x000001A45F11A190>\n",
      "<generator object <genexpr> at 0x000001A45F11A190>\n",
      "<generator object <genexpr> at 0x000001A45F11A190>\n",
      "<generator object <genexpr> at 0x000001A45F11A190>\n",
      "<generator object <genexpr> at 0x000001A45F11A190>\n",
      "<generator object <genexpr> at 0x000001A45F11A190>\n",
      "<generator object <genexpr> at 0x000001A45F11A190>\n",
      "<generator object <genexpr> at 0x000001A45F11A190>\n",
      "<generator object <genexpr> at 0x000001A45F11A190>\n",
      "<generator object <genexpr> at 0x000001A45F11A190>\n",
      "<generator object <genexpr> at 0x000001A45F11A190>\n",
      "<generator object <genexpr> at 0x000001A45F11A190>\n",
      "<generator object <genexpr> at 0x000001A45F11A190>\n",
      "<generator object <genexpr> at 0x000001A45F11A190>\n",
      "<generator object <genexpr> at 0x000001A45F11A190>\n",
      "<generator object <genexpr> at 0x000001A45F11A190>\n",
      "<generator object <genexpr> at 0x000001A45F11A190>\n",
      "<generator object <genexpr> at 0x000001A45F11A190>\n",
      "<generator object <genexpr> at 0x000001A45F11A190>\n",
      "<generator object <genexpr> at 0x000001A45F11A190>\n",
      "<generator object <genexpr> at 0x000001A45F11A190>\n",
      "<generator object <genexpr> at 0x000001A45F11A190>\n",
      "<generator object <genexpr> at 0x000001A45F11A190>\n",
      "<generator object <genexpr> at 0x000001A45F11A190>\n",
      "<generator object <genexpr> at 0x000001A45F11A190>\n",
      "<generator object <genexpr> at 0x000001A45F11A190>\n",
      "<generator object <genexpr> at 0x000001A45F11A190>\n",
      "<generator object <genexpr> at 0x000001A45F11A190>\n",
      "<generator object <genexpr> at 0x000001A45F11A190>\n",
      "<generator object <genexpr> at 0x000001A45F11A190>\n",
      "<generator object <genexpr> at 0x000001A45F11A190>\n",
      "<generator object <genexpr> at 0x000001A45F11A190>\n",
      "<generator object <genexpr> at 0x000001A45F11A190>\n",
      "<generator object <genexpr> at 0x000001A45F11A190>\n",
      "<generator object <genexpr> at 0x000001A45F11A190>\n",
      "<generator object <genexpr> at 0x000001A45F11A190>\n",
      "<generator object <genexpr> at 0x000001A45F11A190>\n"
     ]
    }
   ],
   "source": [
    "from itertools import permutations\n",
    "numbers = [3,30,34,5,9]\n",
    "n = len(numbers)\n",
    "\n",
    "\n",
    "for i in permutations(numbers,5):\n",
    "    print(i[num] for num in range(n))\n"
   ]
  },
  {
   "cell_type": "code",
   "execution_count": null,
   "metadata": {},
   "outputs": [],
   "source": []
  }
 ],
 "metadata": {
  "kernelspec": {
   "display_name": "base",
   "language": "python",
   "name": "python3"
  },
  "language_info": {
   "codemirror_mode": {
    "name": "ipython",
    "version": 3
   },
   "file_extension": ".py",
   "mimetype": "text/x-python",
   "name": "python",
   "nbconvert_exporter": "python",
   "pygments_lexer": "ipython3",
   "version": "3.9.13"
  }
 },
 "nbformat": 4,
 "nbformat_minor": 2
}
